{
 "cells": [
  {
   "cell_type": "code",
   "execution_count": 1,
   "metadata": {},
   "outputs": [
    {
     "name": "stderr",
     "output_type": "stream",
     "text": [
      "2018-10-12 09:11:05,672 404 Client Error: Not Found for url: https://app.terraform.io/api/v2/organizations/Darnold-YAIUKHEEXQTCPI6BDF7X5Y9D\n",
      "2018-10-12 09:11:05,674 'NoneType' object has no attribute 'get'\n"
     ]
    },
    {
     "name": "stdout",
     "output_type": "stream",
     "text": [
      "Darnold-YAIUKHEEXQTCPI6BDF7X5Y9D\n"
     ]
    },
    {
     "ename": "AttributeError",
     "evalue": "'Team' object has no attribute 'Team'",
     "output_type": "error",
     "traceback": [
      "\u001b[0;31m---------------------------------------------------------------------------\u001b[0m",
      "\u001b[0;31mAttributeError\u001b[0m                            Traceback (most recent call last)",
      "\u001b[0;32m<ipython-input-1-9dac11c94670>\u001b[0m in \u001b[0;36m<module>\u001b[0;34m()\u001b[0m\n\u001b[1;32m     20\u001b[0m \u001b[0mteams\u001b[0m \u001b[0;34m=\u001b[0m \u001b[0;34m[\u001b[0m\u001b[0;34m]\u001b[0m\u001b[0;34m\u001b[0m\u001b[0m\n\u001b[1;32m     21\u001b[0m \u001b[0;32mfor\u001b[0m \u001b[0mx\u001b[0m \u001b[0;32min\u001b[0m \u001b[0mrange\u001b[0m\u001b[0;34m(\u001b[0m\u001b[0;36m0\u001b[0m\u001b[0;34m,\u001b[0m\u001b[0;36m3\u001b[0m\u001b[0;34m)\u001b[0m\u001b[0;34m:\u001b[0m\u001b[0;34m\u001b[0m\u001b[0m\n\u001b[0;32m---> 22\u001b[0;31m     \u001b[0mteam\u001b[0m \u001b[0;34m=\u001b[0m \u001b[0mteam\u001b[0m\u001b[0;34m.\u001b[0m\u001b[0mTeam\u001b[0m\u001b[0;34m(\u001b[0m\u001b[0morg\u001b[0m\u001b[0;34m)\u001b[0m\u001b[0;34m\u001b[0m\u001b[0m\n\u001b[0m\u001b[1;32m     23\u001b[0m     \u001b[0mteam\u001b[0m\u001b[0;34m.\u001b[0m\u001b[0mname\u001b[0m \u001b[0;34m=\u001b[0m \u001b[0;34m\"DevOps{0}\"\u001b[0m\u001b[0;34m.\u001b[0m\u001b[0mformat\u001b[0m\u001b[0;34m(\u001b[0m\u001b[0mstr\u001b[0m\u001b[0;34m(\u001b[0m\u001b[0mx\u001b[0m\u001b[0;34m)\u001b[0m\u001b[0;34m)\u001b[0m\u001b[0;34m\u001b[0m\u001b[0m\n\u001b[1;32m     24\u001b[0m     \u001b[0mteams\u001b[0m\u001b[0;34m.\u001b[0m\u001b[0mappend\u001b[0m\u001b[0;34m(\u001b[0m\u001b[0mteam\u001b[0m\u001b[0;34m)\u001b[0m\u001b[0;34m\u001b[0m\u001b[0m\n",
      "\u001b[0;31mAttributeError\u001b[0m: 'Team' object has no attribute 'Team'"
     ]
    }
   ],
   "source": [
    "from tfe.organization import Organization\n",
    "from tfe import organization, workspace, configuration, session, team\n",
    "import os\n",
    "import random\n",
    "import string\n",
    "import json\n",
    "\n",
    "timeout = random.randint(100,600)\n",
    "rand_string = ''.join(random.choices(string.ascii_uppercase + string.digits, k=24))\n",
    "session = session.TFESession(\"https://app.terraform.io\", os.environ.get(\"ATLAS_TOKEN\"))\n",
    "org = Organization(\"Darnold-{0}\".format(rand_string))\n",
    "org.logger.setLevel(\"ERROR\")\n",
    "org.email = \"darnold@hashicorp.com\"\n",
    "org.session_remember = timeout\n",
    "org.session_timeout = timeout\n",
    "org.collaborator_auth_policy = \"two_factor_mandatory\"\n",
    "org.create()\n",
    "print(org.organization)\n",
    "\n",
    "teams = []\n",
    "for x in range(0,3):\n",
    "    team = team.Team(org)\n",
    "    team.name = \"DevOps{0}\".format(str(x))\n",
    "    teams.append(team)\n",
    "\n",
    "[team.create() for team in team]\n",
    "\n"
   ]
  },
  {
   "cell_type": "code",
   "execution_count": null,
   "metadata": {},
   "outputs": [],
   "source": []
  }
 ],
 "metadata": {
  "kernelspec": {
   "display_name": "Python 3",
   "language": "python",
   "name": "python3"
  },
  "language_info": {
   "codemirror_mode": {
    "name": "ipython",
    "version": 3
   },
   "file_extension": ".py",
   "mimetype": "text/x-python",
   "name": "python",
   "nbconvert_exporter": "python",
   "pygments_lexer": "ipython3",
   "version": "3.6.5"
  }
 },
 "nbformat": 4,
 "nbformat_minor": 2
}
