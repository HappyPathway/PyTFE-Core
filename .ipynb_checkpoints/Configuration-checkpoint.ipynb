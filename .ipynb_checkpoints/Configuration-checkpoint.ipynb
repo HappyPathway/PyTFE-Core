{
 "cells": [
  {
   "cell_type": "code",
   "execution_count": null,
   "metadata": {},
   "outputs": [],
   "source": [
    "import random\n",
    "import os\n",
    "import json\n",
    "import string\n",
    "import hvac\n",
    "\n",
    "from tfe.session import TFESession\n",
    "from tfe.run import Run\n",
    "from tfe.workspace import Workspace\n",
    "from tfe.organization import Organization\n",
    "from tfe.run import Run\n",
    "from tfe.configuration import Configuration\n",
    "\n",
    "session = TFESession(\"https://app.terraform.io\", os.environ.get(\"ATLAS_TOKEN\"))\n",
    "org = Organization(\"AnsibleSSHDemos\")\n",
    "org.logger.setLevel(\"ERROR\")\n",
    "network_ws = Workspace(organization=org, name=\"Network2\")\n",
    "\n",
    "conf = Configuration()\n",
    "conf.workspace = network_ws\n",
    "conf.logger.setLevel(\"DEBUG\")\n",
    "new_conf = conf.create()\n",
    "new_conf.get()\n",
    "new_conf.upload(\"/Users/davearnold/git/aws-network\")\n",
    "\n",
    "\n",
    "\n"
   ]
  },
  {
   "cell_type": "code",
   "execution_count": null,
   "metadata": {},
   "outputs": [],
   "source": []
  },
  {
   "cell_type": "code",
   "execution_count": null,
   "metadata": {},
   "outputs": [],
   "source": []
  }
 ],
 "metadata": {
  "kernelspec": {
   "display_name": "Python 3",
   "language": "python",
   "name": "python3"
  },
  "language_info": {
   "codemirror_mode": {
    "name": "ipython",
    "version": 3
   },
   "file_extension": ".py",
   "mimetype": "text/x-python",
   "name": "python",
   "nbconvert_exporter": "python",
   "pygments_lexer": "ipython3",
   "version": "3.6.5"
  }
 },
 "nbformat": 4,
 "nbformat_minor": 2
}
