{
 "cells": [
  {
   "cell_type": "code",
   "execution_count": 1,
   "metadata": {
    "scrolled": true
   },
   "outputs": [
    {
     "name": "stderr",
     "output_type": "stream",
     "text": [
      "2018-10-12 12:24:17,434 404 Client Error: Not Found for url: https://app.terraform.io/api/v2/organizations/Darnold-FD1QMCRZPAF5HF3S4KIQ6AW4\n",
      "2018-10-12 12:24:17,436 'NoneType' object has no attribute 'get'\n"
     ]
    },
    {
     "name": "stdout",
     "output_type": "stream",
     "text": [
      "Darnold-FD1QMCRZPAF5HF3S4KIQ6AW4\n",
      "Oauth Create:  <tfe.oauth_client.OauthClient object at 0x1048fa4a8>\n",
      "Oauth Delete:  404\n",
      "Org Delete:  404\n"
     ]
    }
   ],
   "source": [
    "import os\n",
    "import random\n",
    "import string\n",
    "import json\n",
    "import hvac\n",
    "\n",
    "from tfe.organization import Organization\n",
    "from tfe.oauth_client import OauthClient\n",
    "from tfe.session import TFESession\n",
    "\n",
    "\n",
    "\n",
    "def personal_access_token():\n",
    "    client = hvac.Client(url=os.environ.get('VAULT_ADDR'), token=os.environ.get(\"VAULT_TOKEN\"))\n",
    "    client = hvac.Client(\n",
    "        url=os.environ.get('VAULT_ADDR'), \n",
    "        token=os.environ.get(\"VAULT_TOKEN\")\n",
    "    )\n",
    "    return client.read(\"secret/credentials/github\").get(\"data\").get(\"personal_access_token\")\n",
    "\n",
    "timeout = random.randint(100,600)\n",
    "rand_string = ''.join(random.choices(string.ascii_uppercase + string.digits, k=24))\n",
    "session = TFESession(\"https://app.terraform.io\", os.environ.get(\"ATLAS_TOKEN\"))\n",
    "org = Organization(\"Darnold-{0}\".format(rand_string))\n",
    "org.logger.setLevel(\"ERROR\")\n",
    "org.email = \"darnold@hashicorp.com\"\n",
    "org.session_remember = timeout\n",
    "org.session_timeout = timeout\n",
    "org.collaborator_auth_policy = \"two_factor_mandatory\"\n",
    "org.create()\n",
    "print(org)\n",
    "oauth = OauthClient()\n",
    "oauth.organization = org\n",
    "oauth.service_provider = \"github\"\n",
    "oauth.personal_access_token = personal_access_token()\n",
    "oauth.http_url = \"https://github.com\"\n",
    "oauth.api_url = \"https://api.github.com\"\n",
    "print(\n",
    "    \"Oauth Create: \",\n",
    "    str(oauth.create().id)\n",
    ")\n",
    "print(\n",
    "    \"Oauth Delete: \",\n",
    "    str(oauth.delete())\n",
    ")\n",
    "print(\n",
    "    \"Org Delete: \",\n",
    "    str(org.delete())\n",
    ")\n",
    "\n",
    "\n"
   ]
  },
  {
   "cell_type": "code",
   "execution_count": null,
   "metadata": {},
   "outputs": [],
   "source": []
  },
  {
   "cell_type": "code",
   "execution_count": null,
   "metadata": {},
   "outputs": [],
   "source": []
  }
 ],
 "metadata": {
  "kernelspec": {
   "display_name": "Python 3",
   "language": "python",
   "name": "python3"
  },
  "language_info": {
   "codemirror_mode": {
    "name": "ipython",
    "version": 3
   },
   "file_extension": ".py",
   "mimetype": "text/x-python",
   "name": "python",
   "nbconvert_exporter": "python",
   "pygments_lexer": "ipython3",
   "version": "3.6.5"
  }
 },
 "nbformat": 4,
 "nbformat_minor": 2
}
