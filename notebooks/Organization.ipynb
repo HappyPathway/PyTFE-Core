{
 "cells": [
  {
   "cell_type": "code",
   "execution_count": 1,
   "metadata": {},
   "outputs": [
    {
     "name": "stderr",
     "output_type": "stream",
     "text": [
      "2018-10-21 21:55:46,436 com.happypathway.tfe.Organization: 404 Client Error: Not Found for url: https://app.terraform.io/api/v2/organizations/Darnold-KPR108EN5F8IZK0K5BD7PMRQ\n",
      "2018-10-21 21:55:46,437 com.happypathway.tfe.Organization: 'NoneType' object has no attribute 'get'\n",
      "2018-10-21 21:55:47,032 com.happypathway.tfe.Organization: OrganizationValidator: does not have attribute: name\n",
      "2018-10-21 21:55:47,033 com.happypathway.tfe.Organization: OrganizationValidator: does not have attribute: created-at\n",
      "2018-10-21 21:55:47,034 com.happypathway.tfe.Organization: OrganizationValidator: does not have attribute: session-timeout\n",
      "2018-10-21 21:55:47,037 com.happypathway.tfe.Organization: OrganizationValidator: does not have attribute: session-remember\n",
      "2018-10-21 21:55:47,038 com.happypathway.tfe.Organization: OrganizationValidator: does not have attribute: collaborator-auth-policy\n",
      "2018-10-21 21:55:47,039 com.happypathway.tfe.Organization: OrganizationValidator: does not have attribute: enterprise-plan\n",
      "2018-10-21 21:55:47,040 com.happypathway.tfe.Organization: OrganizationValidator: does not have attribute: permissions\n",
      "2018-10-21 21:55:47,041 com.happypathway.tfe.Organization: OrganizationValidator: does not have attribute: trial-expires-at\n",
      "2018-10-21 21:55:47,041 com.happypathway.tfe.Organization: OrganizationValidator: does not have attribute: fair-run-queuing-enabled\n",
      "2018-10-21 21:55:47,042 com.happypathway.tfe.Organization: OrganizationValidator: does not have attribute: saml-enabled\n",
      "2018-10-21 21:55:47,043 com.happypathway.tfe.Organization: OrganizationValidator: does not have attribute: owners-team-saml-role-id\n",
      "2018-10-21 21:55:47,044 com.happypathway.tfe.Organization: OrganizationValidator: does not have attribute: slack-connected\n",
      "2018-10-21 21:55:47,046 com.happypathway.tfe.Organization: OrganizationValidator: does not have attribute: slack-enabled\n",
      "2018-10-21 21:55:47,055 com.happypathway.tfe.Organization: OrganizationValidator: does not have attribute: two-factor-conformant\n",
      "2018-10-21 21:55:47,280 com.happypathway.tfe.Organization: OrganizationValidator: does not have attribute: name\n",
      "2018-10-21 21:55:47,282 com.happypathway.tfe.Organization: OrganizationValidator: does not have attribute: created-at\n",
      "2018-10-21 21:55:47,282 com.happypathway.tfe.Organization: OrganizationValidator: does not have attribute: session-timeout\n",
      "2018-10-21 21:55:47,283 com.happypathway.tfe.Organization: OrganizationValidator: does not have attribute: session-remember\n",
      "2018-10-21 21:55:47,284 com.happypathway.tfe.Organization: OrganizationValidator: does not have attribute: collaborator-auth-policy\n",
      "2018-10-21 21:55:47,285 com.happypathway.tfe.Organization: OrganizationValidator: does not have attribute: enterprise-plan\n",
      "2018-10-21 21:55:47,285 com.happypathway.tfe.Organization: OrganizationValidator: does not have attribute: permissions\n",
      "2018-10-21 21:55:47,286 com.happypathway.tfe.Organization: OrganizationValidator: does not have attribute: trial-expires-at\n",
      "2018-10-21 21:55:47,287 com.happypathway.tfe.Organization: OrganizationValidator: does not have attribute: fair-run-queuing-enabled\n",
      "2018-10-21 21:55:47,288 com.happypathway.tfe.Organization: OrganizationValidator: does not have attribute: saml-enabled\n",
      "2018-10-21 21:55:47,288 com.happypathway.tfe.Organization: OrganizationValidator: does not have attribute: owners-team-saml-role-id\n",
      "2018-10-21 21:55:47,289 com.happypathway.tfe.Organization: OrganizationValidator: does not have attribute: slack-connected\n",
      "2018-10-21 21:55:47,290 com.happypathway.tfe.Organization: OrganizationValidator: does not have attribute: slack-enabled\n",
      "2018-10-21 21:55:47,291 com.happypathway.tfe.Organization: OrganizationValidator: does not have attribute: two-factor-conformant\n"
     ]
    },
    {
     "name": "stdout",
     "output_type": "stream",
     "text": [
      "{\n",
      "    \"data\":{\n",
      "        \"attributes\":{\n",
      "            \"collaborator-auth-policy\":\"password\",\n",
      "            \"created-at\":\"2018-10-22T04:55:46.658Z\",\n",
      "            \"email\":\"darnold@hashicorp.com\",\n",
      "            \"enterprise-plan\":\"trial\",\n",
      "            \"fair-run-queuing-enabled\":false,\n",
      "            \"name\":\"Darnold-KPR108EN5F8IZK0K5BD7PMRQ\",\n",
      "            \"owners-team-saml-role-id\":null,\n",
      "            \"permissions\":{\n",
      "                \"can-create-team\":true,\n",
      "                \"can-create-workspace\":true,\n",
      "                \"can-create-workspace-migration\":true,\n",
      "                \"can-destroy\":true,\n",
      "                \"can-traverse\":true,\n",
      "                \"can-update\":true,\n",
      "                \"can-update-api-token\":true,\n",
      "                \"can-update-oauth\":true,\n",
      "                \"can-update-sentinel\":true,\n",
      "                \"can-update-slack\":true\n",
      "            },\n",
      "            \"saml-enabled\":false,\n",
      "            \"session-remember\":null,\n",
      "            \"session-timeout\":null,\n",
      "            \"slack-connected\":false,\n",
      "            \"slack-enabled\":false,\n",
      "            \"trial-expires-at\":\"2018-11-21T04:55:46.635Z\",\n",
      "            \"two-factor-conformant\":true\n",
      "        },\n",
      "        \"id\":\"Darnold-KPR108EN5F8IZK0K5BD7PMRQ\",\n",
      "        \"links\":{\n",
      "            \"self\":\"/api/v2/organizations/Darnold-KPR108EN5F8IZK0K5BD7PMRQ\"\n",
      "        },\n",
      "        \"relationships\":{\n",
      "            \"authentication-token\":{\n",
      "                \"links\":{\n",
      "                    \"related\":\"/api/v2/organizations/Darnold-KPR108EN5F8IZK0K5BD7PMRQ/authentication-token\"\n",
      "                }\n",
      "            },\n",
      "            \"oauth-tokens\":{\n",
      "                \"links\":{\n",
      "                    \"related\":\"/api/v2/organizations/Darnold-KPR108EN5F8IZK0K5BD7PMRQ/oauth-tokens\"\n",
      "                }\n",
      "            }\n",
      "        },\n",
      "        \"type\":\"organizations\"\n",
      "    }\n",
      "}\n"
     ]
    },
    {
     "data": {
      "text/plain": [
       "204"
      ]
     },
     "execution_count": 1,
     "metadata": {},
     "output_type": "execute_result"
    }
   ],
   "source": [
    "from tfe.core.organization import Organization\n",
    "from tfe.core import organization, workspace, configuration, session\n",
    "import os\n",
    "import random\n",
    "import string\n",
    "import json\n",
    "import logging\n",
    "\n",
    "logging.FileHandler(\"/tmp/pytfe.log\", mode='a')\n",
    "timeout = random.randint(100,600)\n",
    "rand_string = ''.join(random.choices(string.ascii_uppercase + string.digits, k=24))\n",
    "session = session.TFESession(\"https://app.terraform.io\", os.environ.get(\"ATLAS_TOKEN\"))\n",
    "org = Organization(\"Darnold-{0}\".format(rand_string))\n",
    "org.logger.setLevel(\"ERROR\")\n",
    "org.email = \"darnold@hashicorp.com\"\n",
    "org.session_remember = timeout\n",
    "org.session_timeout = timeout\n",
    "org.collaborator_auth_policy = \"password\"\n",
    "org.create()\n",
    "\n",
    "org = Organization(\"Darnold-{0}\".format(rand_string))\n",
    "try:\n",
    "    assert(org.email == \"darnold@hashicorp.com\")\n",
    "    assert(org.session_remember == timeout)\n",
    "    assert(org.session_timeout == timeout)\n",
    "    assert(org.collaborator_auth_policy == \"two_factor_mandatory\")\n",
    "except AssertionError:\n",
    "    print(\n",
    "        json.dumps(\n",
    "            org.raw,\n",
    "            separators=(',', ':'),\n",
    "            indent=4,\n",
    "            sort_keys=True\n",
    "        )\n",
    "    )\n",
    "org.delete()"
   ]
  },
  {
   "cell_type": "code",
   "execution_count": null,
   "metadata": {},
   "outputs": [],
   "source": []
  },
  {
   "cell_type": "code",
   "execution_count": null,
   "metadata": {},
   "outputs": [],
   "source": []
  }
 ],
 "metadata": {
  "kernelspec": {
   "display_name": "Python 3",
   "language": "python",
   "name": "python3"
  },
  "language_info": {
   "codemirror_mode": {
    "name": "ipython",
    "version": 3
   },
   "file_extension": ".py",
   "mimetype": "text/x-python",
   "name": "python",
   "nbconvert_exporter": "python",
   "pygments_lexer": "ipython3",
   "version": "3.7.6"
  }
 },
 "nbformat": 4,
 "nbformat_minor": 2
}
