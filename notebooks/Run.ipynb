{
 "cells": [
  {
   "cell_type": "code",
   "execution_count": 1,
   "metadata": {
    "scrolled": false
   },
   "outputs": [
    {
     "name": "stderr",
     "output_type": "stream",
     "text": [
      "2018-10-12 21:11:30,536 {0}Validator: does not have attribute: name\n",
      "2018-10-12 21:11:30,538 {0}Validator: does not have attribute: created-at\n",
      "2018-10-12 21:11:30,539 {0}Validator: does not have attribute: session-timeout\n",
      "2018-10-12 21:11:30,542 {0}Validator: does not have attribute: session-remember\n",
      "2018-10-12 21:11:30,544 {0}Validator: does not have attribute: collaborator-auth-policy\n",
      "2018-10-12 21:11:30,546 {0}Validator: does not have attribute: enterprise-plan\n",
      "2018-10-12 21:11:30,547 {0}Validator: does not have attribute: permissions\n",
      "2018-10-12 21:11:30,549 {0}Validator: does not have attribute: trial-expires-at\n",
      "2018-10-12 21:11:30,551 {0}Validator: does not have attribute: fair-run-queuing-enabled\n",
      "2018-10-12 21:11:30,561 {0}Validator: does not have attribute: saml-enabled\n",
      "2018-10-12 21:11:30,571 {0}Validator: does not have attribute: owners-team-saml-role-id\n",
      "2018-10-12 21:11:30,573 {0}Validator: does not have attribute: slack-connected\n",
      "2018-10-12 21:11:30,577 {0}Validator: does not have attribute: slack-enabled\n",
      "2018-10-12 21:11:30,585 {0}Validator: does not have attribute: two-factor-conformant\n",
      "2018-10-12 21:11:31,160 {0}Validator: does not have attribute: name\n",
      "2018-10-12 21:11:31,162 {0}Validator: does not have attribute: created-at\n",
      "2018-10-12 21:11:31,164 {0}Validator: does not have attribute: session-timeout\n",
      "2018-10-12 21:11:31,165 {0}Validator: does not have attribute: session-remember\n",
      "2018-10-12 21:11:31,168 {0}Validator: does not have attribute: collaborator-auth-policy\n",
      "2018-10-12 21:11:31,169 {0}Validator: does not have attribute: enterprise-plan\n",
      "2018-10-12 21:11:31,171 {0}Validator: does not have attribute: permissions\n",
      "2018-10-12 21:11:31,174 {0}Validator: does not have attribute: trial-expires-at\n",
      "2018-10-12 21:11:31,175 {0}Validator: does not have attribute: fair-run-queuing-enabled\n",
      "2018-10-12 21:11:31,177 {0}Validator: does not have attribute: saml-enabled\n",
      "2018-10-12 21:11:31,179 {0}Validator: does not have attribute: owners-team-saml-role-id\n",
      "2018-10-12 21:11:31,181 {0}Validator: does not have attribute: slack-connected\n",
      "2018-10-12 21:11:31,182 {0}Validator: does not have attribute: slack-enabled\n",
      "2018-10-12 21:11:31,184 {0}Validator: does not have attribute: two-factor-conformant\n",
      "2018-10-12 21:11:31,616 {0}Validator: does not have attribute: is-destroy\n",
      "2018-10-12 21:11:31,618 {0}Validator: does not have attribute: message\n",
      "2018-10-12 21:11:31,619 {0}Validator: does not have attribute: source\n",
      "2018-10-12 21:11:31,621 can't set attribute\n",
      "2018-10-12 21:11:31,623 {0}Validator: does not have attribute: status-timestamps\n",
      "2018-10-12 21:11:31,625 {0}Validator: does not have attribute: created-at\n",
      "2018-10-12 21:11:31,627 {0}Validator: does not have attribute: canceled-at\n",
      "2018-10-12 21:11:31,628 {0}Validator: does not have attribute: has-changes\n",
      "2018-10-12 21:11:31,630 {0}Validator: does not have attribute: actions\n",
      "2018-10-12 21:11:31,631 {0}Validator: does not have attribute: plan-only\n",
      "2018-10-12 21:11:31,633 {0}Validator: does not have attribute: permissions\n"
     ]
    },
    {
     "name": "stdout",
     "output_type": "stream",
     "text": [
      "<tfe.configuration.Configuration object at 0x10345aa20>\n"
     ]
    },
    {
     "name": "stderr",
     "output_type": "stream",
     "text": [
      "2018-10-12 21:11:34,588 {0}Validator: does not have attribute: auto-queue-runs\n",
      "2018-10-12 21:11:34,589 {0}Validator: does not have attribute: error\n",
      "2018-10-12 21:11:34,591 {0}Validator: does not have attribute: error-message\n",
      "2018-10-12 21:11:34,593 {0}Validator: does not have attribute: source\n",
      "2018-10-12 21:11:34,598 {0}Validator: does not have attribute: status\n",
      "2018-10-12 21:11:34,599 {0}Validator: does not have attribute: status-timestamps\n"
     ]
    },
    {
     "name": "stdout",
     "output_type": "stream",
     "text": [
      "cv-zkM433jHdPFfSz58\n"
     ]
    },
    {
     "name": "stderr",
     "output_type": "stream",
     "text": [
      "2018-10-12 21:11:35,509 404 Client Error: Not Found for url: https://app.terraform.io/api/v2/runs/None\n",
      "2018-10-12 21:11:35,511 'NoneType' object has no attribute 'get'\n",
      "2018-10-12 21:11:35,631 'NoneType' object has no attribute 'get'\n"
     ]
    },
    {
     "name": "stdout",
     "output_type": "stream",
     "text": [
      "None\n"
     ]
    }
   ],
   "source": [
    "import random\n",
    "import os\n",
    "import json\n",
    "import string\n",
    "import hvac\n",
    "\n",
    "from tfe.session import TFESession\n",
    "from tfe.run import Run\n",
    "from tfe.workspace import Workspace\n",
    "from tfe.organization import Organization\n",
    "from tfe.run import Run\n",
    "from tfe.configuration import Configuration\n",
    "\n",
    "session = TFESession(\"https://app.terraform.io\", os.environ.get(\"ATLAS_TOKEN\"))\n",
    "org = Organization(\"AnsibleSSHDemos\")\n",
    "network_ws = Workspace(organization=org, name=\"Network\")\n",
    "network_ws.current_run.get()\n",
    "\n",
    "conf = Configuration()\n",
    "conf.workspace = network_ws\n",
    "for x in conf.list():\n",
    "    print(x)\n",
    "conf_x = x\n",
    "conf_x.get()\n",
    "print(\n",
    "    conf_x.id\n",
    ")\n",
    "\n",
    "\n",
    "run = Run()\n",
    "run.run_message = \"Running From Python!!\"\n",
    "run.workspace_id = network_ws.id\n",
    "run.configuration_version = conf_x.id\n",
    "run.create()\n",
    "run.get()\n",
    "print(\n",
    "    run.status\n",
    ")\n",
    "\n"
   ]
  },
  {
   "cell_type": "code",
   "execution_count": null,
   "metadata": {},
   "outputs": [],
   "source": []
  }
 ],
 "metadata": {
  "kernelspec": {
   "display_name": "Python 3",
   "language": "python",
   "name": "python3"
  },
  "language_info": {
   "codemirror_mode": {
    "name": "ipython",
    "version": 3
   },
   "file_extension": ".py",
   "mimetype": "text/x-python",
   "name": "python",
   "nbconvert_exporter": "python",
   "pygments_lexer": "ipython3",
   "version": "3.6.5"
  }
 },
 "nbformat": 4,
 "nbformat_minor": 2
}
