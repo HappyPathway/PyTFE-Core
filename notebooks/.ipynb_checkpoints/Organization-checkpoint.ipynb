{
 "cells": [
  {
   "cell_type": "code",
   "execution_count": 1,
   "metadata": {},
   "outputs": [
    {
     "name": "stderr",
     "output_type": "stream",
     "text": [
      "2018-10-12 08:19:07,747 404 Client Error: Not Found for url: https://app.terraform.io/api/v2/organizations/Darnold-KC5HTKT945BEEAEVWYOFWZJ6\n",
      "2018-10-12 08:19:07,749 'NoneType' object has no attribute 'get'\n"
     ]
    },
    {
     "name": "stdout",
     "output_type": "stream",
     "text": [
      "{\n",
      "    \"data\":{\n",
      "        \"attributes\":{\n",
      "            \"collaborator-auth-policy\":\"password\",\n",
      "            \"created-at\":\"2018-10-12T15:19:07.999Z\",\n",
      "            \"email\":\"darnold@hashicorp.com\",\n",
      "            \"enterprise-plan\":\"trial\",\n",
      "            \"fair-run-queuing-enabled\":false,\n",
      "            \"name\":\"Darnold-KC5HTKT945BEEAEVWYOFWZJ6\",\n",
      "            \"owners-team-saml-role-id\":null,\n",
      "            \"permissions\":{\n",
      "                \"can-create-team\":true,\n",
      "                \"can-create-workspace\":true,\n",
      "                \"can-create-workspace-migration\":true,\n",
      "                \"can-destroy\":true,\n",
      "                \"can-traverse\":true,\n",
      "                \"can-update\":true,\n",
      "                \"can-update-api-token\":true,\n",
      "                \"can-update-oauth\":true,\n",
      "                \"can-update-sentinel\":true,\n",
      "                \"can-update-slack\":true\n",
      "            },\n",
      "            \"saml-enabled\":false,\n",
      "            \"session-remember\":null,\n",
      "            \"session-timeout\":null,\n",
      "            \"slack-connected\":false,\n",
      "            \"slack-enabled\":false,\n",
      "            \"trial-expires-at\":\"2018-11-11T15:19:07.992Z\",\n",
      "            \"two-factor-conformant\":true\n",
      "        },\n",
      "        \"id\":\"Darnold-KC5HTKT945BEEAEVWYOFWZJ6\",\n",
      "        \"links\":{\n",
      "            \"self\":\"/api/v2/organizations/Darnold-KC5HTKT945BEEAEVWYOFWZJ6\"\n",
      "        },\n",
      "        \"relationships\":{\n",
      "            \"authentication-token\":{\n",
      "                \"links\":{\n",
      "                    \"related\":\"/api/v2/organizations/Darnold-KC5HTKT945BEEAEVWYOFWZJ6/authentication-token\"\n",
      "                }\n",
      "            },\n",
      "            \"oauth-tokens\":{\n",
      "                \"links\":{\n",
      "                    \"related\":\"/api/v2/organizations/Darnold-KC5HTKT945BEEAEVWYOFWZJ6/oauth-tokens\"\n",
      "                }\n",
      "            }\n",
      "        },\n",
      "        \"type\":\"organizations\"\n",
      "    }\n",
      "}\n"
     ]
    },
    {
     "data": {
      "text/plain": [
       "204"
      ]
     },
     "execution_count": 1,
     "metadata": {},
     "output_type": "execute_result"
    }
   ],
   "source": [
    "from tfe.organization import Organization\n",
    "from tfe import organization, workspace, configuration, session\n",
    "import os\n",
    "import random\n",
    "import string\n",
    "import json\n",
    "import logging\n",
    "\n",
    "\n",
    "timeout = random.randint(100,600)\n",
    "rand_string = ''.join(random.choices(string.ascii_uppercase + string.digits, k=24))\n",
    "session = session.TFESession(\"https://app.terraform.io\", os.environ.get(\"ATLAS_TOKEN\"))\n",
    "org = Organization(\"Darnold-{0}\".format(rand_string))\n",
    "org.logger.setLevel(\"ERROR\")\n",
    "org.email = \"darnold@hashicorp.com\"\n",
    "org.session_remember = timeout\n",
    "org.session_timeout = timeout\n",
    "org.collaborator_auth_policy = \"password\"\n",
    "org.create()\n",
    "\n",
    "org = Organization(\"Darnold-{0}\".format(rand_string))\n",
    "try:\n",
    "    assert(org.email == \"darnold@hashicorp.com\")\n",
    "    assert(org.session_remember == timeout)\n",
    "    assert(org.session_timeout == timeout)\n",
    "    assert(org.collaborator_auth_policy == \"two_factor_mandatory\")\n",
    "except AssertionError:\n",
    "    print(\n",
    "        json.dumps(\n",
    "            org.raw,\n",
    "            separators=(',', ':'),\n",
    "            indent=4,\n",
    "            sort_keys=True\n",
    "        )\n",
    "    )\n",
    "org.delete()"
   ]
  },
  {
   "cell_type": "code",
   "execution_count": null,
   "metadata": {},
   "outputs": [],
   "source": []
  },
  {
   "cell_type": "code",
   "execution_count": null,
   "metadata": {},
   "outputs": [],
   "source": []
  }
 ],
 "metadata": {
  "kernelspec": {
   "display_name": "Python 3",
   "language": "python",
   "name": "python3"
  },
  "language_info": {
   "codemirror_mode": {
    "name": "ipython",
    "version": 3
   },
   "file_extension": ".py",
   "mimetype": "text/x-python",
   "name": "python",
   "nbconvert_exporter": "python",
   "pygments_lexer": "ipython3",
   "version": "3.6.5"
  }
 },
 "nbformat": 4,
 "nbformat_minor": 2
}
