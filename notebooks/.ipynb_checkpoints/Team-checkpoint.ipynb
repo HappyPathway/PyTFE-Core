{
 "cells": [
  {
   "cell_type": "code",
   "execution_count": 1,
   "metadata": {},
   "outputs": [
    {
     "name": "stderr",
     "output_type": "stream",
     "text": [
      "2018-10-21 23:57:49,805 com.happypathway.tfe.Organization: 404 Client Error: Not Found for url: https://app.terraform.io/api/v2/organizations/Darnold-TVY81V3QZGPSQLBH78UIOH2A\n",
      "2018-10-21 23:57:49,807 com.happypathway.tfe.Organization: 'NoneType' object has no attribute 'get'\n",
      "2018-10-21 23:57:50,404 com.happypathway.tfe.Organization: OrganizationValidator: does not have attribute: name\n",
      "2018-10-21 23:57:50,404 com.happypathway.tfe.Organization: OrganizationValidator: does not have attribute: created-at\n",
      "2018-10-21 23:57:50,405 com.happypathway.tfe.Organization: OrganizationValidator: does not have attribute: session-timeout\n",
      "2018-10-21 23:57:50,405 com.happypathway.tfe.Organization: OrganizationValidator: does not have attribute: session-remember\n",
      "2018-10-21 23:57:50,406 com.happypathway.tfe.Organization: OrganizationValidator: does not have attribute: collaborator-auth-policy\n",
      "2018-10-21 23:57:50,409 com.happypathway.tfe.Organization: OrganizationValidator: does not have attribute: enterprise-plan\n",
      "2018-10-21 23:57:50,411 com.happypathway.tfe.Organization: OrganizationValidator: does not have attribute: permissions\n",
      "2018-10-21 23:57:50,413 com.happypathway.tfe.Organization: OrganizationValidator: does not have attribute: trial-expires-at\n",
      "2018-10-21 23:57:50,415 com.happypathway.tfe.Organization: OrganizationValidator: does not have attribute: fair-run-queuing-enabled\n",
      "2018-10-21 23:57:50,418 com.happypathway.tfe.Organization: OrganizationValidator: does not have attribute: saml-enabled\n",
      "2018-10-21 23:57:50,420 com.happypathway.tfe.Organization: OrganizationValidator: does not have attribute: owners-team-saml-role-id\n",
      "2018-10-21 23:57:50,425 com.happypathway.tfe.Organization: OrganizationValidator: does not have attribute: slack-connected\n",
      "2018-10-21 23:57:50,430 com.happypathway.tfe.Organization: OrganizationValidator: does not have attribute: slack-enabled\n",
      "2018-10-21 23:57:50,434 com.happypathway.tfe.Organization: OrganizationValidator: does not have attribute: two-factor-conformant\n"
     ]
    },
    {
     "name": "stdout",
     "output_type": "stream",
     "text": [
      "Org Create:  Darnold-TVY81V3QZGPSQLBH78UIOH2A\n",
      "Darnold-TVY81V3QZGPSQLBH78UIOH2A\n"
     ]
    },
    {
     "ename": "AttributeError",
     "evalue": "module 'tfe.core.team' has no attribute 'name'",
     "output_type": "error",
     "traceback": [
      "\u001b[0;31m---------------------------------------------------------------------------\u001b[0m",
      "\u001b[0;31mAttributeError\u001b[0m                            Traceback (most recent call last)",
      "\u001b[0;32m<ipython-input-1-0ad4dc003bff>\u001b[0m in \u001b[0;36m<module>\u001b[0;34m()\u001b[0m\n\u001b[1;32m     29\u001b[0m     \u001b[0mteams\u001b[0m\u001b[0;34m.\u001b[0m\u001b[0mappend\u001b[0m\u001b[0;34m(\u001b[0m\u001b[0mt\u001b[0m\u001b[0;34m)\u001b[0m\u001b[0;34m\u001b[0m\u001b[0m\n\u001b[1;32m     30\u001b[0m \u001b[0;34m\u001b[0m\u001b[0m\n\u001b[0;32m---> 31\u001b[0;31m \u001b[0mprint\u001b[0m\u001b[0;34m(\u001b[0m\u001b[0;34m\"Team Name: {0}\"\u001b[0m\u001b[0;34m.\u001b[0m\u001b[0mformat\u001b[0m\u001b[0;34m(\u001b[0m\u001b[0mteam\u001b[0m\u001b[0;34m.\u001b[0m\u001b[0mname\u001b[0m\u001b[0;34m)\u001b[0m\u001b[0;34m)\u001b[0m\u001b[0;34m\u001b[0m\u001b[0m\n\u001b[0m\u001b[1;32m     32\u001b[0m \u001b[0;32mif\u001b[0m \u001b[0minput\u001b[0m\u001b[0;34m(\u001b[0m\u001b[0;34m\"Continue...\"\u001b[0m\u001b[0;34m)\u001b[0m\u001b[0;34m:\u001b[0m\u001b[0;34m\u001b[0m\u001b[0m\n\u001b[1;32m     33\u001b[0m     \u001b[0mprint\u001b[0m\u001b[0;34m(\u001b[0m\u001b[0mstr\u001b[0m\u001b[0;34m(\u001b[0m\u001b[0;34m[\u001b[0m\u001b[0mt\u001b[0m\u001b[0;34m.\u001b[0m\u001b[0mcreate\u001b[0m\u001b[0;34m(\u001b[0m\u001b[0;34m)\u001b[0m \u001b[0;32mfor\u001b[0m \u001b[0mt\u001b[0m \u001b[0;32min\u001b[0m \u001b[0mteams\u001b[0m\u001b[0;34m]\u001b[0m\u001b[0;34m)\u001b[0m\u001b[0;34m)\u001b[0m\u001b[0;34m\u001b[0m\u001b[0m\n",
      "\u001b[0;31mAttributeError\u001b[0m: module 'tfe.core.team' has no attribute 'name'"
     ]
    }
   ],
   "source": [
    "from tfe.core.organization import Organization\n",
    "from tfe.core import organization, workspace, configuration, session, team\n",
    "import os\n",
    "import random\n",
    "import string\n",
    "import json\n",
    "\n",
    "timeout = random.randint(100,600)\n",
    "rand_string = ''.join(random.choices(string.ascii_uppercase + string.digits, k=24))\n",
    "session = session.TFESession(\"https://app.terraform.io\", os.environ.get(\"ATLAS_TOKEN\"))\n",
    "org = Organization(\"Darnold-{0}\".format(rand_string))\n",
    "org.logger.setLevel(\"ERROR\")\n",
    "org.email = \"darnold@hashicorp.com\"\n",
    "org.session_remember = timeout\n",
    "org.session_timeout = timeout\n",
    "org.collaborator_auth_policy = \"two_factor_mandatory\"\n",
    "\n",
    "print(\n",
    "    \"Org Create: \",\n",
    "    org.create()\n",
    ")\n",
    "print(org.organization)\n",
    "\n",
    "teams = []\n",
    "for x in range(0,3):\n",
    "    t = team.Team()\n",
    "    t.organization = org\n",
    "    t.name = \"DevOps{0}\".format(str(x))\n",
    "    teams.append(t)\n",
    "\n",
    "\n",
    "print(str([t.create() for t in teams]))\n",
    "print(str([t.delete() for t in teams]))\n",
    "if input(\"continue?: \"):\n",
    "    print(\n",
    "        \"Org Delete: \",\n",
    "        org.delete()\n",
    "    )\n"
   ]
  }
 ],
 "metadata": {
  "kernelspec": {
   "display_name": "Python 3",
   "language": "python",
   "name": "python3"
  },
  "language_info": {
   "codemirror_mode": {
    "name": "ipython",
    "version": 3
   },
   "file_extension": ".py",
   "mimetype": "text/x-python",
   "name": "python",
   "nbconvert_exporter": "python",
   "pygments_lexer": "ipython3",
   "version": "3.6.5"
  }
 },
 "nbformat": 4,
 "nbformat_minor": 2
}
