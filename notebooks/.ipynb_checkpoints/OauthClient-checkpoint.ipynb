{
 "cells": [
  {
   "cell_type": "code",
   "execution_count": 1,
   "metadata": {
    "scrolled": true
   },
   "outputs": [
    {
     "name": "stderr",
     "output_type": "stream",
     "text": [
      "2018-10-22 12:25:30,034 com.happypathway.tfe.Organization: 404 Client Error: Not Found for url: https://app.terraform.io/api/v2/organizations/Darnold-JLWKSCUYG56QHUFS31HH8EZQ\n",
      "2018-10-22 12:25:30,039 com.happypathway.tfe.Organization: 'NoneType' object has no attribute 'get'\n",
      "2018-10-22 12:25:30,044 com.happypathway.tfe.Organization: organization: Darnold-JLWKSCUYG56QHUFS31HH8EZQ\n",
      "2018-10-22 12:25:30,046 com.happypathway.tfe.Organization: email: darnold@hashicorp.com\n",
      "2018-10-22 12:25:30,047 com.happypathway.tfe.Organization: session_timeout: 192\n",
      "2018-10-22 12:25:30,048 com.happypathway.tfe.Organization: session_remember: 192\n",
      "2018-10-22 12:25:30,049 com.happypathway.tfe.Organization: collaborator_auth_policy: two_factor_mandatory\n",
      "2018-10-22 12:25:30,051 com.happypathway.tfe.Organization: {\n",
      "    \"data\":{\n",
      "        \"attributes\":{\n",
      "            \"collaborator-auth-policy\":\"two_factor_mandatory\",\n",
      "            \"email\":\"darnold@hashicorp.com\",\n",
      "            \"name\":\"Darnold-JLWKSCUYG56QHUFS31HH8EZQ\",\n",
      "            \"session-remember\":\"192\",\n",
      "            \"session-timeout\":\"192\"\n",
      "        },\n",
      "        \"type\":\"organizations\"\n",
      "    }\n",
      "}\n",
      "2018-10-22 12:25:30,403 com.happypathway.tfe.Organization: getting item from https://app.terraform.io/api/v2/organizations/Darnold-JLWKSCUYG56QHUFS31HH8EZQ\n",
      "2018-10-22 12:25:30,600 com.happypathway.tfe.Organization: Setting name:Darnold-JLWKSCUYG56QHUFS31HH8EZQ\n",
      "2018-10-22 12:25:30,601 com.happypathway.tfe.Organization: OrganizationValidator: does not have attribute: name\n",
      "2018-10-22 12:25:30,601 com.happypathway.tfe.Organization: Setting created-at:2018-10-22T19:25:30.179Z\n",
      "2018-10-22 12:25:30,602 com.happypathway.tfe.Organization: OrganizationValidator: does not have attribute: created-at\n",
      "2018-10-22 12:25:30,604 com.happypathway.tfe.Organization: Setting email:darnold@hashicorp.com\n",
      "2018-10-22 12:25:30,606 com.happypathway.tfe.Organization: Setting session-timeout:None\n",
      "2018-10-22 12:25:30,612 com.happypathway.tfe.Organization: OrganizationValidator: does not have attribute: session-timeout\n",
      "2018-10-22 12:25:30,613 com.happypathway.tfe.Organization: Setting session-remember:None\n",
      "2018-10-22 12:25:30,615 com.happypathway.tfe.Organization: OrganizationValidator: does not have attribute: session-remember\n",
      "2018-10-22 12:25:30,616 com.happypathway.tfe.Organization: Setting collaborator-auth-policy:password\n",
      "2018-10-22 12:25:30,617 com.happypathway.tfe.Organization: OrganizationValidator: does not have attribute: collaborator-auth-policy\n",
      "2018-10-22 12:25:30,618 com.happypathway.tfe.Organization: Setting enterprise-plan:trial\n",
      "2018-10-22 12:25:30,621 com.happypathway.tfe.Organization: OrganizationValidator: does not have attribute: enterprise-plan\n",
      "2018-10-22 12:25:30,622 com.happypathway.tfe.Organization: Setting permissions:{'can-update': True, 'can-destroy': True, 'can-create-team': True, 'can-create-workspace': True, 'can-update-oauth': True, 'can-update-api-token': True, 'can-update-sentinel': True, 'can-traverse': True, 'can-create-workspace-migration': True, 'can-update-slack': True}\n",
      "2018-10-22 12:25:30,623 com.happypathway.tfe.Organization: OrganizationValidator: does not have attribute: permissions\n",
      "2018-10-22 12:25:30,626 com.happypathway.tfe.Organization: Setting trial-expires-at:2018-11-21T19:25:30.174Z\n",
      "2018-10-22 12:25:30,629 com.happypathway.tfe.Organization: OrganizationValidator: does not have attribute: trial-expires-at\n",
      "2018-10-22 12:25:30,633 com.happypathway.tfe.Organization: Setting fair-run-queuing-enabled:False\n",
      "2018-10-22 12:25:30,635 com.happypathway.tfe.Organization: OrganizationValidator: does not have attribute: fair-run-queuing-enabled\n",
      "2018-10-22 12:25:30,636 com.happypathway.tfe.Organization: Setting saml-enabled:False\n",
      "2018-10-22 12:25:30,640 com.happypathway.tfe.Organization: OrganizationValidator: does not have attribute: saml-enabled\n",
      "2018-10-22 12:25:30,645 com.happypathway.tfe.Organization: Setting owners-team-saml-role-id:None\n",
      "2018-10-22 12:25:30,647 com.happypathway.tfe.Organization: OrganizationValidator: does not have attribute: owners-team-saml-role-id\n",
      "2018-10-22 12:25:30,650 com.happypathway.tfe.Organization: Setting slack-connected:False\n",
      "2018-10-22 12:25:30,652 com.happypathway.tfe.Organization: OrganizationValidator: does not have attribute: slack-connected\n",
      "2018-10-22 12:25:30,653 com.happypathway.tfe.Organization: Setting slack-enabled:False\n",
      "2018-10-22 12:25:30,656 com.happypathway.tfe.Organization: OrganizationValidator: does not have attribute: slack-enabled\n",
      "2018-10-22 12:25:30,658 com.happypathway.tfe.Organization: Setting two-factor-conformant:True\n",
      "2018-10-22 12:25:30,662 com.happypathway.tfe.Organization: OrganizationValidator: does not have attribute: two-factor-conformant\n",
      "2018-10-22 12:25:30,810 com.happypathway.tfe.OauthClient: service_provider: github\n",
      "2018-10-22 12:25:30,811 com.happypathway.tfe.OauthClient: http_url: https://github.com\n",
      "2018-10-22 12:25:30,812 com.happypathway.tfe.OauthClient: api_url: https://api.github.com\n",
      "2018-10-22 12:25:30,812 com.happypathway.tfe.OauthClient: personal_access_token: 7146087b2696d09b74ac70789bae47245111e24c\n",
      "2018-10-22 12:25:30,816 com.happypathway.tfe.OauthClient: {\n",
      "    \"data\":{\n",
      "        \"attributes\":{\n",
      "            \"api-url\":\"https://api.github.com\",\n",
      "            \"http-url\":\"https://github.com\",\n",
      "            \"oauth-token-string\":\"7146087b2696d09b74ac70789bae47245111e24c\",\n",
      "            \"service-provider\":\"github\"\n",
      "        },\n",
      "        \"type\":\"oauth-clients\"\n",
      "    }\n",
      "}\n"
     ]
    },
    {
     "name": "stdout",
     "output_type": "stream",
     "text": [
      "Darnold-JLWKSCUYG56QHUFS31HH8EZQ\n"
     ]
    },
    {
     "name": "stderr",
     "output_type": "stream",
     "text": [
      "2018-10-22 12:25:31,209 com.happypathway.tfe.OauthClient: {\n",
      "  \"data\": {\n",
      "    \"type\": \"oauth-clients\",\n",
      "    \"attributes\": {\n",
      "      \"service-provider\": \"github\",\n",
      "      \"http-url\": \"https://github.com\",\n",
      "      \"api-url\": \"https://api.github.com\",\n",
      "      \"oauth-token-string\": \"7146087b2696d09b74ac70789bae47245111e24c\"\n",
      "    }\n",
      "  }\n",
      "}\n",
      "2018-10-22 12:25:31,212 com.happypathway.tfe.OauthClient: 500 Server Error: Internal Server Error for url: https://app.terraform.io/api/v2/organizations/Darnold-JLWKSCUYG56QHUFS31HH8EZQ/oauth-clients\n"
     ]
    },
    {
     "ename": "HTTPError",
     "evalue": "500 Server Error: Internal Server Error for url: https://app.terraform.io/api/v2/organizations/Darnold-JLWKSCUYG56QHUFS31HH8EZQ/oauth-clients",
     "output_type": "error",
     "traceback": [
      "\u001b[0;31m---------------------------------------------------------------------------\u001b[0m",
      "\u001b[0;31mHTTPError\u001b[0m                                 Traceback (most recent call last)",
      "\u001b[0;32m/usr/local/lib/python3.6/site-packages/PyTFE-0.0.2-py3.6.egg/tfe/core/tfe.py\u001b[0m in \u001b[0;36mcreate\u001b[0;34m(self, **kwargs)\u001b[0m\n\u001b[1;32m    228\u001b[0m             )\n\u001b[0;32m--> 229\u001b[0;31m             \u001b[0mresp\u001b[0m\u001b[0;34m.\u001b[0m\u001b[0mraise_for_status\u001b[0m\u001b[0;34m(\u001b[0m\u001b[0;34m)\u001b[0m\u001b[0;34m\u001b[0m\u001b[0m\n\u001b[0m\u001b[1;32m    230\u001b[0m         \u001b[0;32mexcept\u001b[0m \u001b[0mException\u001b[0m \u001b[0;32mas\u001b[0m \u001b[0me\u001b[0m\u001b[0;34m:\u001b[0m\u001b[0;34m\u001b[0m\u001b[0m\n",
      "\u001b[0;32m/usr/local/lib/python3.6/site-packages/requests/models.py\u001b[0m in \u001b[0;36mraise_for_status\u001b[0;34m(self)\u001b[0m\n\u001b[1;32m    938\u001b[0m         \u001b[0;32mif\u001b[0m \u001b[0mhttp_error_msg\u001b[0m\u001b[0;34m:\u001b[0m\u001b[0;34m\u001b[0m\u001b[0m\n\u001b[0;32m--> 939\u001b[0;31m             \u001b[0;32mraise\u001b[0m \u001b[0mHTTPError\u001b[0m\u001b[0;34m(\u001b[0m\u001b[0mhttp_error_msg\u001b[0m\u001b[0;34m,\u001b[0m \u001b[0mresponse\u001b[0m\u001b[0;34m=\u001b[0m\u001b[0mself\u001b[0m\u001b[0;34m)\u001b[0m\u001b[0;34m\u001b[0m\u001b[0m\n\u001b[0m\u001b[1;32m    940\u001b[0m \u001b[0;34m\u001b[0m\u001b[0m\n",
      "\u001b[0;31mHTTPError\u001b[0m: 500 Server Error: Internal Server Error for url: https://app.terraform.io/api/v2/organizations/Darnold-JLWKSCUYG56QHUFS31HH8EZQ/oauth-clients",
      "\nDuring handling of the above exception, another exception occurred:\n",
      "\u001b[0;31mHTTPError\u001b[0m                                 Traceback (most recent call last)",
      "\u001b[0;32m<ipython-input-1-3bfa955bc708>\u001b[0m in \u001b[0;36m<module>\u001b[0;34m()\u001b[0m\n\u001b[1;32m     39\u001b[0m print(\n\u001b[1;32m     40\u001b[0m     \u001b[0;34m\"Oauth Create: \"\u001b[0m\u001b[0;34m,\u001b[0m\u001b[0;34m\u001b[0m\u001b[0m\n\u001b[0;32m---> 41\u001b[0;31m     \u001b[0mstr\u001b[0m\u001b[0;34m(\u001b[0m\u001b[0moauth\u001b[0m\u001b[0;34m.\u001b[0m\u001b[0mcreate\u001b[0m\u001b[0;34m(\u001b[0m\u001b[0;34m)\u001b[0m\u001b[0;34m.\u001b[0m\u001b[0mid\u001b[0m\u001b[0;34m)\u001b[0m\u001b[0;34m\u001b[0m\u001b[0m\n\u001b[0m\u001b[1;32m     42\u001b[0m )\n\u001b[1;32m     43\u001b[0m print(\n",
      "\u001b[0;32m/usr/local/lib/python3.6/site-packages/PyTFE-0.0.2-py3.6.egg/tfe/core/tfe.py\u001b[0m in \u001b[0;36mcreate\u001b[0;34m(self, **kwargs)\u001b[0m\n\u001b[1;32m    231\u001b[0m             \u001b[0mself\u001b[0m\u001b[0;34m.\u001b[0m\u001b[0mlogger\u001b[0m\u001b[0;34m.\u001b[0m\u001b[0merror\u001b[0m\u001b[0;34m(\u001b[0m\u001b[0mrendered_json\u001b[0m\u001b[0;34m)\u001b[0m\u001b[0;34m\u001b[0m\u001b[0m\n\u001b[1;32m    232\u001b[0m             \u001b[0mself\u001b[0m\u001b[0;34m.\u001b[0m\u001b[0mlogger\u001b[0m\u001b[0;34m.\u001b[0m\u001b[0merror\u001b[0m\u001b[0;34m(\u001b[0m\u001b[0mstr\u001b[0m\u001b[0;34m(\u001b[0m\u001b[0me\u001b[0m\u001b[0;34m)\u001b[0m\u001b[0;34m)\u001b[0m\u001b[0;34m\u001b[0m\u001b[0m\n\u001b[0;32m--> 233\u001b[0;31m             \u001b[0mresp\u001b[0m\u001b[0;34m.\u001b[0m\u001b[0mraise_for_status\u001b[0m\u001b[0;34m(\u001b[0m\u001b[0;34m)\u001b[0m\u001b[0;34m\u001b[0m\u001b[0m\n\u001b[0m\u001b[1;32m    234\u001b[0m \u001b[0;34m\u001b[0m\u001b[0m\n\u001b[1;32m    235\u001b[0m         \u001b[0mresp\u001b[0m\u001b[0;34m.\u001b[0m\u001b[0mraise_for_status\u001b[0m\u001b[0;34m(\u001b[0m\u001b[0;34m)\u001b[0m\u001b[0;34m\u001b[0m\u001b[0m\n",
      "\u001b[0;32m/usr/local/lib/python3.6/site-packages/requests/models.py\u001b[0m in \u001b[0;36mraise_for_status\u001b[0;34m(self)\u001b[0m\n\u001b[1;32m    937\u001b[0m \u001b[0;34m\u001b[0m\u001b[0m\n\u001b[1;32m    938\u001b[0m         \u001b[0;32mif\u001b[0m \u001b[0mhttp_error_msg\u001b[0m\u001b[0;34m:\u001b[0m\u001b[0;34m\u001b[0m\u001b[0m\n\u001b[0;32m--> 939\u001b[0;31m             \u001b[0;32mraise\u001b[0m \u001b[0mHTTPError\u001b[0m\u001b[0;34m(\u001b[0m\u001b[0mhttp_error_msg\u001b[0m\u001b[0;34m,\u001b[0m \u001b[0mresponse\u001b[0m\u001b[0;34m=\u001b[0m\u001b[0mself\u001b[0m\u001b[0;34m)\u001b[0m\u001b[0;34m\u001b[0m\u001b[0m\n\u001b[0m\u001b[1;32m    940\u001b[0m \u001b[0;34m\u001b[0m\u001b[0m\n\u001b[1;32m    941\u001b[0m     \u001b[0;32mdef\u001b[0m \u001b[0mclose\u001b[0m\u001b[0;34m(\u001b[0m\u001b[0mself\u001b[0m\u001b[0;34m)\u001b[0m\u001b[0;34m:\u001b[0m\u001b[0;34m\u001b[0m\u001b[0m\n",
      "\u001b[0;31mHTTPError\u001b[0m: 500 Server Error: Internal Server Error for url: https://app.terraform.io/api/v2/organizations/Darnold-JLWKSCUYG56QHUFS31HH8EZQ/oauth-clients"
     ]
    }
   ],
   "source": [
    "import os\n",
    "import random\n",
    "import string\n",
    "import json\n",
    "import hvac\n",
    "\n",
    "from tfe.core.organization import Organization\n",
    "from tfe.core.oauth_client import OauthClient\n",
    "from tfe.core.session import TFESession\n",
    "\n",
    "\n",
    "\n",
    "def personal_access_token():\n",
    "    client = hvac.Client(url=os.environ.get('VAULT_ADDR'), token=os.environ.get(\"VAULT_TOKEN\"))\n",
    "    client = hvac.Client(\n",
    "        url=os.environ.get('VAULT_ADDR'), \n",
    "        token=os.environ.get(\"VAULT_TOKEN\")\n",
    "    )\n",
    "    return client.read(\"secret/credentials/github\").get(\"data\").get(\"personal_access_token\")\n",
    "\n",
    "timeout = random.randint(100,600)\n",
    "rand_string = ''.join(random.choices(string.ascii_uppercase + string.digits, k=24))\n",
    "session = TFESession(\"https://app.terraform.io\", os.environ.get(\"ATLAS_TOKEN\"))\n",
    "org = Organization(\"Darnold-{0}\".format(rand_string))\n",
    "org.logger.setLevel(\"DEBUG\")\n",
    "org.email = \"darnold@hashicorp.com\"\n",
    "org.session_remember = timeout\n",
    "org.session_timeout = timeout\n",
    "org.collaborator_auth_policy = \"two_factor_mandatory\"\n",
    "org.create()\n",
    "print(org)\n",
    "oauth = OauthClient()\n",
    "oauth.logger.setLevel(\"DEBUG\")\n",
    "oauth.organization = org\n",
    "oauth.service_provider = \"github\"\n",
    "oauth.personal_access_token = personal_access_token()\n",
    "oauth.http_url = \"https://github.com\"\n",
    "oauth.api_url = \"https://api.github.com\"\n",
    "print(\n",
    "    \"Oauth Create: \",\n",
    "    str(oauth.create().id)\n",
    ")\n",
    "print(\n",
    "    \"Oauth Token ID: \",\n",
    "    str(oauth.token)\n",
    ")\n",
    "print(\n",
    "    \"Oauth Delete: \",\n",
    "    str(oauth.delete())\n",
    ")\n",
    "print(\n",
    "    \"Org Delete: \",\n",
    "    str(org.delete())\n",
    ")\n",
    "print(oauth.delete_url)\n",
    "print(org.delete_url)\n",
    "\n"
   ]
  },
  {
   "cell_type": "code",
   "execution_count": 3,
   "metadata": {},
   "outputs": [
    {
     "name": "stderr",
     "output_type": "stream",
     "text": [
      "2018-10-12 12:37:34,851 getting item from https://app.terraform.io/api/v2/organizations/Darnold-RACUQ0IJ48GLDF0BIHDAHPN7\n",
      "2018-10-12 12:37:35,436 deleting from https://app.terraform.io/api/v2/organizations/Darnold-RACUQ0IJ48GLDF0BIHDAHPN7\n"
     ]
    },
    {
     "data": {
      "text/plain": [
       "404"
      ]
     },
     "execution_count": 3,
     "metadata": {},
     "output_type": "execute_result"
    }
   ],
   "source": [
    "org = Organization(\"Darnold-RACUQ0IJ48GLDF0BIHDAHPN7\")\n",
    "org.delete()"
   ]
  },
  {
   "cell_type": "code",
   "execution_count": null,
   "metadata": {},
   "outputs": [],
   "source": []
  }
 ],
 "metadata": {
  "kernelspec": {
   "display_name": "Python 3",
   "language": "python",
   "name": "python3"
  },
  "language_info": {
   "codemirror_mode": {
    "name": "ipython",
    "version": 3
   },
   "file_extension": ".py",
   "mimetype": "text/x-python",
   "name": "python",
   "nbconvert_exporter": "python",
   "pygments_lexer": "ipython3",
   "version": "3.6.5"
  }
 },
 "nbformat": 4,
 "nbformat_minor": 2
}
