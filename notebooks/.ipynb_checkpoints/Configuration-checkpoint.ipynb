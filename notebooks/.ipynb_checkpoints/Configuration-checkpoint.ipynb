{
 "cells": [
  {
   "cell_type": "code",
   "execution_count": 1,
   "metadata": {},
   "outputs": [
    {
     "name": "stderr",
     "output_type": "stream",
     "text": [
      "2018-10-19 15:45:46,689 com.happypathway.tfe.Organization: OrganizationValidator: does not have attribute: name\n",
      "2018-10-19 15:45:46,690 com.happypathway.tfe.Organization: OrganizationValidator: does not have attribute: created-at\n",
      "2018-10-19 15:45:46,690 com.happypathway.tfe.Organization: OrganizationValidator: does not have attribute: session-timeout\n",
      "2018-10-19 15:45:46,691 com.happypathway.tfe.Organization: OrganizationValidator: does not have attribute: session-remember\n",
      "2018-10-19 15:45:46,692 com.happypathway.tfe.Organization: OrganizationValidator: does not have attribute: collaborator-auth-policy\n",
      "2018-10-19 15:45:46,693 com.happypathway.tfe.Organization: OrganizationValidator: does not have attribute: enterprise-plan\n",
      "2018-10-19 15:45:46,694 com.happypathway.tfe.Organization: OrganizationValidator: does not have attribute: permissions\n",
      "2018-10-19 15:45:46,695 com.happypathway.tfe.Organization: OrganizationValidator: does not have attribute: trial-expires-at\n",
      "2018-10-19 15:45:46,696 com.happypathway.tfe.Organization: OrganizationValidator: does not have attribute: fair-run-queuing-enabled\n",
      "2018-10-19 15:45:46,697 com.happypathway.tfe.Organization: OrganizationValidator: does not have attribute: saml-enabled\n",
      "2018-10-19 15:45:46,697 com.happypathway.tfe.Organization: OrganizationValidator: does not have attribute: owners-team-saml-role-id\n",
      "2018-10-19 15:45:46,698 com.happypathway.tfe.Organization: OrganizationValidator: does not have attribute: slack-connected\n",
      "2018-10-19 15:45:46,699 com.happypathway.tfe.Organization: OrganizationValidator: does not have attribute: slack-enabled\n",
      "2018-10-19 15:45:46,699 com.happypathway.tfe.Organization: OrganizationValidator: does not have attribute: two-factor-conformant\n",
      "2018-10-19 15:45:46,720 com.happypathway.tfe.Workspace: Payload Failed: True\n",
      "2018-10-19 15:45:46,722 com.happypathway.tfe.Workspace: Expecting property name enclosed in double quotes: line 8 column 3 (char 113)\n",
      "2018-10-19 15:45:46,724 com.happypathway.tfe.Workspace: {\n",
      "  \"data\": {\n",
      "    \"attributes\": {\n",
      "      \"name\": \"Network2\",\n",
      "      \"terraform_version\": \"0.11.8\",\n",
      "      \n",
      "      \n",
      "  },\n",
      "  \"type\": \"workspaces\"\n",
      "}\n"
     ]
    },
    {
     "ename": "TFEValidationError",
     "evalue": "Could not load",
     "output_type": "error",
     "traceback": [
      "\u001b[0;31m---------------------------------------------------------------------------\u001b[0m",
      "\u001b[0;31mTFEValidationError\u001b[0m                        Traceback (most recent call last)",
      "\u001b[0;32m<ipython-input-1-fc3fac48b8a3>\u001b[0m in \u001b[0;36m<module>\u001b[0;34m()\u001b[0m\n\u001b[1;32m     17\u001b[0m \u001b[0mnetwork_ws\u001b[0m \u001b[0;34m=\u001b[0m \u001b[0mWorkspace\u001b[0m\u001b[0;34m(\u001b[0m\u001b[0;34m)\u001b[0m\u001b[0;34m\u001b[0m\u001b[0m\n\u001b[1;32m     18\u001b[0m \u001b[0mnetwork_ws\u001b[0m\u001b[0;34m.\u001b[0m\u001b[0mname\u001b[0m \u001b[0;34m=\u001b[0m \u001b[0;34m\"Network2\"\u001b[0m\u001b[0;34m\u001b[0m\u001b[0m\n\u001b[0;32m---> 19\u001b[0;31m \u001b[0mnetwork_ws\u001b[0m\u001b[0;34m.\u001b[0m\u001b[0mcreate\u001b[0m\u001b[0;34m(\u001b[0m\u001b[0;34m)\u001b[0m\u001b[0;34m\u001b[0m\u001b[0m\n\u001b[0m\u001b[1;32m     20\u001b[0m \u001b[0;34m\u001b[0m\u001b[0m\n\u001b[1;32m     21\u001b[0m \u001b[0mconf\u001b[0m \u001b[0;34m=\u001b[0m \u001b[0mConfiguration\u001b[0m\u001b[0;34m(\u001b[0m\u001b[0;34m)\u001b[0m\u001b[0;34m\u001b[0m\u001b[0m\n",
      "\u001b[0;32m/usr/local/lib/python3.6/site-packages/PyTFE-0.0.2-py3.6.egg/tfe/core/tfe.py\u001b[0m in \u001b[0;36mcreate\u001b[0;34m(self, **kwargs)\u001b[0m\n\u001b[1;32m    216\u001b[0m             \u001b[0mself\u001b[0m\u001b[0;34m.\u001b[0m\u001b[0mlogger\u001b[0m\u001b[0;34m.\u001b[0m\u001b[0merror\u001b[0m\u001b[0;34m(\u001b[0m\u001b[0mrendered_json\u001b[0m\u001b[0;34m)\u001b[0m\u001b[0;34m\u001b[0m\u001b[0m\n\u001b[1;32m    217\u001b[0m         \u001b[0;32mif\u001b[0m \u001b[0mpayload_failed\u001b[0m\u001b[0;34m:\u001b[0m\u001b[0;34m\u001b[0m\u001b[0m\n\u001b[0;32m--> 218\u001b[0;31m             \u001b[0;32mraise\u001b[0m \u001b[0mTFEValidationError\u001b[0m\u001b[0;34m(\u001b[0m\u001b[0;34m\"Could not load\"\u001b[0m\u001b[0;34m)\u001b[0m\u001b[0;34m\u001b[0m\u001b[0m\n\u001b[0m\u001b[1;32m    219\u001b[0m         \u001b[0;32mtry\u001b[0m\u001b[0;34m:\u001b[0m\u001b[0;34m\u001b[0m\u001b[0m\n\u001b[1;32m    220\u001b[0m             resp = self.session.post(\n",
      "\u001b[0;31mTFEValidationError\u001b[0m: Could not load"
     ]
    }
   ],
   "source": [
    "import random\n",
    "import os\n",
    "import json\n",
    "import string\n",
    "import hvac\n",
    "\n",
    "from tfe.core.session import TFESession\n",
    "from tfe.core.run import Run\n",
    "from tfe.core.workspace import Workspace\n",
    "from tfe.core.organization import Organization\n",
    "from tfe.core.run import Run\n",
    "from tfe.core.configuration import Configuration\n",
    "\n",
    "session = TFESession(\"https://app.terraform.io\", os.environ.get(\"ATLAS_TOKEN\"))\n",
    "org = Organization(\"Darnold-PyTFE\")\n",
    "org.logger.setLevel(\"ERROR\")\n",
    "network_ws = Workspace()\n",
    "network_ws.name = \"Network2\"\n",
    "network_ws.organization = org\n",
    "network_ws.create()\n",
    "\n",
    "conf = Configuration()\n",
    "conf.workspace = network_ws\n",
    "conf.logger.setLevel(\"DEBUG\")\n",
    "new_conf = conf.create()\n",
    "new_conf.get()\n",
    "new_conf.upload(\"/Users/davearnold/git/aws-network\")\n",
    "\n",
    "\n",
    "\n"
   ]
  },
  {
   "cell_type": "code",
   "execution_count": null,
   "metadata": {},
   "outputs": [],
   "source": []
  },
  {
   "cell_type": "code",
   "execution_count": null,
   "metadata": {},
   "outputs": [],
   "source": []
  }
 ],
 "metadata": {
  "kernelspec": {
   "display_name": "Python 3",
   "language": "python",
   "name": "python3"
  },
  "language_info": {
   "codemirror_mode": {
    "name": "ipython",
    "version": 3
   },
   "file_extension": ".py",
   "mimetype": "text/x-python",
   "name": "python",
   "nbconvert_exporter": "python",
   "pygments_lexer": "ipython3",
   "version": "3.6.5"
  }
 },
 "nbformat": 4,
 "nbformat_minor": 2
}
