{
 "cells": [
  {
   "cell_type": "code",
   "execution_count": 2,
   "metadata": {},
   "outputs": [
    {
     "name": "stderr",
     "output_type": "stream",
     "text": [
      "2018-10-12 12:51:02,735 404 Client Error: Not Found for url: https://app.terraform.io/api/v2/organizations/Darnold-F6L74V4CEB02NECNNPH98M14\n",
      "2018-10-12 12:51:02,736 'NoneType' object has no attribute 'get'\n"
     ]
    },
    {
     "name": "stdout",
     "output_type": "stream",
     "text": [
      "Org Create:  Darnold-F6L74V4CEB02NECNNPH98M14\n",
      "Darnold-F6L74V4CEB02NECNNPH98M14\n",
      "[<tfe.team.Team object at 0x10ab19d68>, <tfe.team.Team object at 0x10ab19908>, <tfe.team.Team object at 0x10a67d668>]\n",
      "[204, 204, 204]\n",
      "Org Delete:  204\n"
     ]
    }
   ],
   "source": [
    "from tfe.organization import Organization\n",
    "from tfe import organization, workspace, configuration, session, team\n",
    "import os\n",
    "import random\n",
    "import string\n",
    "import json\n",
    "\n",
    "timeout = random.randint(100,600)\n",
    "rand_string = ''.join(random.choices(string.ascii_uppercase + string.digits, k=24))\n",
    "session = session.TFESession(\"https://app.terraform.io\", os.environ.get(\"ATLAS_TOKEN\"))\n",
    "org = Organization(\"Darnold-{0}\".format(rand_string))\n",
    "org.logger.setLevel(\"ERROR\")\n",
    "org.email = \"darnold@hashicorp.com\"\n",
    "org.session_remember = timeout\n",
    "org.session_timeout = timeout\n",
    "org.collaborator_auth_policy = \"two_factor_mandatory\"\n",
    "\n",
    "print(\n",
    "    \"Org Create: \",\n",
    "    org.create()\n",
    ")\n",
    "print(org.organization)\n",
    "\n",
    "teams = []\n",
    "for x in range(0,3):\n",
    "    t = team.Team()\n",
    "    t.organization = org\n",
    "    t.name = \"DevOps{0}\".format(str(x))\n",
    "    teams.append(t)\n",
    "\n",
    "print(str([t.create() for t in teams]))\n",
    "print(str([t.delete() for t in teams]))\n",
    "print(\n",
    "    \"Org Delete: \",\n",
    "    org.delete()\n",
    ")\n"
   ]
  },
  {
   "cell_type": "code",
   "execution_count": 7,
   "metadata": {},
   "outputs": [
    {
     "name": "stderr",
     "output_type": "stream",
     "text": [
      "2018-10-12 09:22:19,797 404 Client Error: Not Found for url: https://app.terraform.io/api/v2/organizations/Darnold-45QQ4ZWN49UYZ8OMOCK0SQWA\n",
      "2018-10-12 09:22:19,799 'NoneType' object has no attribute 'get'\n"
     ]
    },
    {
     "ename": "AttributeError",
     "evalue": "'Organization' object has no attribute 'email'",
     "output_type": "error",
     "traceback": [
      "\u001b[0;31m---------------------------------------------------------------------------\u001b[0m",
      "\u001b[0;31mAttributeError\u001b[0m                            Traceback (most recent call last)",
      "\u001b[0;32m<ipython-input-7-6cadc522cd26>\u001b[0m in \u001b[0;36m<module>\u001b[0;34m()\u001b[0m\n\u001b[1;32m      1\u001b[0m \u001b[0morg\u001b[0m \u001b[0;34m=\u001b[0m \u001b[0mOrganization\u001b[0m\u001b[0;34m(\u001b[0m\u001b[0;34m\"Darnold-45QQ4ZWN49UYZ8OMOCK0SQWA\"\u001b[0m\u001b[0;34m)\u001b[0m\u001b[0;34m\u001b[0m\u001b[0m\n\u001b[1;32m      2\u001b[0m \u001b[0morg\u001b[0m\u001b[0;34m.\u001b[0m\u001b[0morganization\u001b[0m\u001b[0;34m\u001b[0m\u001b[0m\n\u001b[0;32m----> 3\u001b[0;31m \u001b[0morg\u001b[0m\u001b[0;34m.\u001b[0m\u001b[0memail\u001b[0m\u001b[0;34m\u001b[0m\u001b[0m\n\u001b[0m",
      "\u001b[0;31mAttributeError\u001b[0m: 'Organization' object has no attribute 'email'"
     ]
    }
   ],
   "source": [
    "org = Organization(\"Darnold-45QQ4ZWN49UYZ8OMOCK0SQWA\")\n",
    "org.organization\n",
    "assert"
   ]
  }
 ],
 "metadata": {
  "kernelspec": {
   "display_name": "Python 3",
   "language": "python",
   "name": "python3"
  },
  "language_info": {
   "codemirror_mode": {
    "name": "ipython",
    "version": 3
   },
   "file_extension": ".py",
   "mimetype": "text/x-python",
   "name": "python",
   "nbconvert_exporter": "python",
   "pygments_lexer": "ipython3",
   "version": "3.6.5"
  }
 },
 "nbformat": 4,
 "nbformat_minor": 2
}
