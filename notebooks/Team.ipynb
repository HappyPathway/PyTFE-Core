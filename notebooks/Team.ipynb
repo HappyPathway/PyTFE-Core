{
 "cells": [
  {
   "cell_type": "code",
   "execution_count": 1,
   "metadata": {},
   "outputs": [
    {
     "name": "stderr",
     "output_type": "stream",
     "text": [
      "2018-10-22 00:03:34,589 com.happypathway.tfe.Organization: 404 Client Error: Not Found for url: https://app.terraform.io/api/v2/organizations/Darnold-GVH2N83YH2UMKL20M1SWE7OY\n",
      "2018-10-22 00:03:34,592 com.happypathway.tfe.Organization: 'NoneType' object has no attribute 'get'\n",
      "2018-10-22 00:03:35,188 com.happypathway.tfe.Organization: OrganizationValidator: does not have attribute: name\n",
      "2018-10-22 00:03:35,189 com.happypathway.tfe.Organization: OrganizationValidator: does not have attribute: created-at\n",
      "2018-10-22 00:03:35,189 com.happypathway.tfe.Organization: OrganizationValidator: does not have attribute: session-timeout\n",
      "2018-10-22 00:03:35,190 com.happypathway.tfe.Organization: OrganizationValidator: does not have attribute: session-remember\n",
      "2018-10-22 00:03:35,191 com.happypathway.tfe.Organization: OrganizationValidator: does not have attribute: collaborator-auth-policy\n",
      "2018-10-22 00:03:35,191 com.happypathway.tfe.Organization: OrganizationValidator: does not have attribute: enterprise-plan\n",
      "2018-10-22 00:03:35,193 com.happypathway.tfe.Organization: OrganizationValidator: does not have attribute: permissions\n",
      "2018-10-22 00:03:35,194 com.happypathway.tfe.Organization: OrganizationValidator: does not have attribute: trial-expires-at\n",
      "2018-10-22 00:03:35,195 com.happypathway.tfe.Organization: OrganizationValidator: does not have attribute: fair-run-queuing-enabled\n",
      "2018-10-22 00:03:35,197 com.happypathway.tfe.Organization: OrganizationValidator: does not have attribute: saml-enabled\n",
      "2018-10-22 00:03:35,198 com.happypathway.tfe.Organization: OrganizationValidator: does not have attribute: owners-team-saml-role-id\n",
      "2018-10-22 00:03:35,199 com.happypathway.tfe.Organization: OrganizationValidator: does not have attribute: slack-connected\n",
      "2018-10-22 00:03:35,200 com.happypathway.tfe.Organization: OrganizationValidator: does not have attribute: slack-enabled\n",
      "2018-10-22 00:03:35,200 com.happypathway.tfe.Organization: OrganizationValidator: does not have attribute: two-factor-conformant\n"
     ]
    },
    {
     "name": "stdout",
     "output_type": "stream",
     "text": [
      "Org Create:  Darnold-GVH2N83YH2UMKL20M1SWE7OY\n",
      "Darnold-GVH2N83YH2UMKL20M1SWE7OY\n"
     ]
    },
    {
     "name": "stderr",
     "output_type": "stream",
     "text": [
      "2018-10-22 00:03:35,685 com.happypathway.tfe.Team: TeamValidator: does not have attribute: users-count\n",
      "2018-10-22 00:03:35,686 com.happypathway.tfe.Team: TeamValidator: does not have attribute: permissions\n",
      "2018-10-22 00:03:36,196 com.happypathway.tfe.Team: TeamValidator: does not have attribute: users-count\n",
      "2018-10-22 00:03:36,197 com.happypathway.tfe.Team: TeamValidator: does not have attribute: permissions\n",
      "2018-10-22 00:03:36,703 com.happypathway.tfe.Team: TeamValidator: does not have attribute: users-count\n",
      "2018-10-22 00:03:36,704 com.happypathway.tfe.Team: TeamValidator: does not have attribute: permissions\n"
     ]
    },
    {
     "name": "stdout",
     "output_type": "stream",
     "text": [
      "[<tfe.core.team.Team object at 0x10d731d30>, <tfe.core.team.Team object at 0x10d731588>, <tfe.core.team.Team object at 0x10d731278>]\n",
      "continue?: \n"
     ]
    }
   ],
   "source": [
    "from tfe.core.organization import Organization\n",
    "from tfe.core import organization, workspace, configuration, session, team\n",
    "import os\n",
    "import random\n",
    "import string\n",
    "import json\n",
    "\n",
    "timeout = random.randint(100,600)\n",
    "rand_string = ''.join(random.choices(string.ascii_uppercase + string.digits, k=24))\n",
    "session = session.TFESession(\"https://app.terraform.io\", os.environ.get(\"ATLAS_TOKEN\"))\n",
    "org = Organization(\"Darnold-{0}\".format(rand_string))\n",
    "org.logger.setLevel(\"ERROR\")\n",
    "org.email = \"darnold@hashicorp.com\"\n",
    "org.session_remember = timeout\n",
    "org.session_timeout = timeout\n",
    "org.collaborator_auth_policy = \"two_factor_mandatory\"\n",
    "\n",
    "print(\n",
    "    \"Org Create: \",\n",
    "    org.create()\n",
    ")\n",
    "print(org.organization)\n",
    "\n",
    "teams = []\n",
    "for x in range(0,3):\n",
    "    t = team.Team()\n",
    "    t.organization = org\n",
    "    t.name = \"DevOps{0}\".format(str(x))\n",
    "    teams.append(t)\n",
    "\n",
    "\n",
    "print(str([t.create() for t in teams]))\n",
    "if input(\"continue?: \"):\n",
    "    print(str([t.delete() for t in teams]))\n",
    "    print(\n",
    "        \"Org Delete: \",\n",
    "        org.delete()\n",
    "    )\n"
   ]
  },
  {
   "cell_type": "code",
   "execution_count": null,
   "metadata": {},
   "outputs": [],
   "source": []
  }
 ],
 "metadata": {
  "kernelspec": {
   "display_name": "Python 3",
   "language": "python",
   "name": "python3"
  },
  "language_info": {
   "codemirror_mode": {
    "name": "ipython",
    "version": 3
   },
   "file_extension": ".py",
   "mimetype": "text/x-python",
   "name": "python",
   "nbconvert_exporter": "python",
   "pygments_lexer": "ipython3",
   "version": "3.6.5"
  }
 },
 "nbformat": 4,
 "nbformat_minor": 2
}
