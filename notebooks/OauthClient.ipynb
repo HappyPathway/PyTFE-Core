{
 "cells": [
  {
   "cell_type": "code",
   "execution_count": 1,
   "metadata": {
    "scrolled": true
   },
   "outputs": [
    {
     "name": "stderr",
     "output_type": "stream",
     "text": [
      "2018-10-12 15:17:31,962 404 Client Error: Not Found for url: https://app.terraform.io/api/v2/organizations/Darnold-QII462D9NLO1TVQR8SHTH1KU\n",
      "2018-10-12 15:17:31,966 'NoneType' object has no attribute 'get'\n",
      "2018-10-12 15:17:31,968 organization: Darnold-QII462D9NLO1TVQR8SHTH1KU\n",
      "2018-10-12 15:17:31,970 email: darnold@hashicorp.com\n",
      "2018-10-12 15:17:31,971 session_timeout: 569\n",
      "2018-10-12 15:17:31,973 session_remember: 569\n",
      "2018-10-12 15:17:31,975 collaborator_auth_policy: two_factor_mandatory\n",
      "2018-10-12 15:17:31,980 {\n",
      "    \"data\":{\n",
      "        \"attributes\":{\n",
      "            \"collaborator-auth-policy\":\"two_factor_mandatory\",\n",
      "            \"email\":\"darnold@hashicorp.com\",\n",
      "            \"name\":\"Darnold-QII462D9NLO1TVQR8SHTH1KU\",\n",
      "            \"session-remember\":\"569\",\n",
      "            \"session-timeout\":\"569\"\n",
      "        },\n",
      "        \"type\":\"organizations\"\n",
      "    }\n",
      "}\n",
      "2018-10-12 15:17:32,529 getting item from https://app.terraform.io/api/v2/organizations/Darnold-QII462D9NLO1TVQR8SHTH1KU\n",
      "2018-10-12 15:17:32,919 service_provider: github\n",
      "2018-10-12 15:17:32,921 http_url: https://github.com\n",
      "2018-10-12 15:17:32,922 api_url: https://api.github.com\n",
      "2018-10-12 15:17:32,924 personal_access_token: 7146087b2696d09b74ac70789bae47245111e24c\n",
      "2018-10-12 15:17:32,926 {\n",
      "    \"data\":{\n",
      "        \"attributes\":{\n",
      "            \"api-url\":\"https://api.github.com\",\n",
      "            \"http-url\":\"https://github.com\",\n",
      "            \"oauth-token-string\":\"7146087b2696d09b74ac70789bae47245111e24c\",\n",
      "            \"service-provider\":\"github\"\n",
      "        },\n",
      "        \"type\":\"oauth-clients\"\n",
      "    }\n",
      "}\n"
     ]
    },
    {
     "name": "stdout",
     "output_type": "stream",
     "text": [
      "Darnold-QII462D9NLO1TVQR8SHTH1KU\n",
      "Oauth Create:  oc-YG9SrJZj7i8RkvnM\n"
     ]
    },
    {
     "name": "stderr",
     "output_type": "stream",
     "text": [
      "2018-10-12 15:17:33,862 deleting from https://app.terraform.io/api/v2/organizations/Darnold-QII462D9NLO1TVQR8SHTH1KU/oauth-clients/oc-YG9SrJZj7i8RkvnM\n",
      "2018-10-12 15:17:33,966 deleting from https://app.terraform.io/api/v2/organizations/Darnold-QII462D9NLO1TVQR8SHTH1KU\n"
     ]
    },
    {
     "name": "stdout",
     "output_type": "stream",
     "text": [
      "Oauth Token ID:  ot-higAHSiSYyBzevyr\n",
      "Oauth Delete:  404\n",
      "Org Delete:  404\n",
      "https://app.terraform.io/api/v2/organizations/Darnold-QII462D9NLO1TVQR8SHTH1KU/oauth-clients/oc-YG9SrJZj7i8RkvnM\n",
      "https://app.terraform.io/api/v2/organizations/Darnold-QII462D9NLO1TVQR8SHTH1KU\n"
     ]
    }
   ],
   "source": [
    "import os\n",
    "import random\n",
    "import string\n",
    "import json\n",
    "import hvac\n",
    "\n",
    "from tfe.organization import Organization\n",
    "from tfe.oauth_client import OauthClient\n",
    "from tfe.session import TFESession\n",
    "\n",
    "\n",
    "\n",
    "def personal_access_token():\n",
    "    client = hvac.Client(url=os.environ.get('VAULT_ADDR'), token=os.environ.get(\"VAULT_TOKEN\"))\n",
    "    client = hvac.Client(\n",
    "        url=os.environ.get('VAULT_ADDR'), \n",
    "        token=os.environ.get(\"VAULT_TOKEN\")\n",
    "    )\n",
    "    return client.read(\"secret/credentials/github\").get(\"data\").get(\"personal_access_token\")\n",
    "\n",
    "timeout = random.randint(100,600)\n",
    "rand_string = ''.join(random.choices(string.ascii_uppercase + string.digits, k=24))\n",
    "session = TFESession(\"https://app.terraform.io\", os.environ.get(\"ATLAS_TOKEN\"))\n",
    "org = Organization(\"Darnold-{0}\".format(rand_string))\n",
    "org.logger.setLevel(\"DEBUG\")\n",
    "org.email = \"darnold@hashicorp.com\"\n",
    "org.session_remember = timeout\n",
    "org.session_timeout = timeout\n",
    "org.collaborator_auth_policy = \"two_factor_mandatory\"\n",
    "org.create()\n",
    "print(org)\n",
    "oauth = OauthClient()\n",
    "oauth.logger.setLevel(\"DEBUG\")\n",
    "oauth.organization = org\n",
    "oauth.service_provider = \"github\"\n",
    "oauth.personal_access_token = personal_access_token()\n",
    "oauth.http_url = \"https://github.com\"\n",
    "oauth.api_url = \"https://api.github.com\"\n",
    "print(\n",
    "    \"Oauth Create: \",\n",
    "    str(oauth.create().id)\n",
    ")\n",
    "print(\n",
    "    \"Oauth Token ID: \",\n",
    "    str(oauth.token)\n",
    ")\n",
    "print(\n",
    "    \"Oauth Delete: \",\n",
    "    str(oauth.delete())\n",
    ")\n",
    "print(\n",
    "    \"Org Delete: \",\n",
    "    str(org.delete())\n",
    ")\n",
    "print(oauth.delete_url)\n",
    "print(org.delete_url)\n",
    "\n"
   ]
  },
  {
   "cell_type": "code",
   "execution_count": 3,
   "metadata": {},
   "outputs": [
    {
     "name": "stderr",
     "output_type": "stream",
     "text": [
      "2018-10-12 12:37:34,851 getting item from https://app.terraform.io/api/v2/organizations/Darnold-RACUQ0IJ48GLDF0BIHDAHPN7\n",
      "2018-10-12 12:37:35,436 deleting from https://app.terraform.io/api/v2/organizations/Darnold-RACUQ0IJ48GLDF0BIHDAHPN7\n"
     ]
    },
    {
     "data": {
      "text/plain": [
       "404"
      ]
     },
     "execution_count": 3,
     "metadata": {},
     "output_type": "execute_result"
    }
   ],
   "source": [
    "org = Organization(\"Darnold-RACUQ0IJ48GLDF0BIHDAHPN7\")\n",
    "org.delete()"
   ]
  },
  {
   "cell_type": "code",
   "execution_count": null,
   "metadata": {},
   "outputs": [],
   "source": []
  }
 ],
 "metadata": {
  "kernelspec": {
   "display_name": "Python 3",
   "language": "python",
   "name": "python3"
  },
  "language_info": {
   "codemirror_mode": {
    "name": "ipython",
    "version": 3
   },
   "file_extension": ".py",
   "mimetype": "text/x-python",
   "name": "python",
   "nbconvert_exporter": "python",
   "pygments_lexer": "ipython3",
   "version": "3.6.5"
  }
 },
 "nbformat": 4,
 "nbformat_minor": 2
}
