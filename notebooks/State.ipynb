{
 "cells": [
  {
   "cell_type": "code",
   "execution_count": 8,
   "metadata": {},
   "outputs": [
    {
     "name": "stdout",
     "output_type": "stream",
     "text": [
      "https://archivist.terraform.io/v1/object/dmF1bHQ6djE6K0RlRWdXVmFVSUxSeUFVNGZwTWlkNHJoeXRKQ0ZIN3ByQkJTZEpxSlNiTWFwNFJiNmJlbWlJV3dRUE5pWEhnZG02UCt3VW9NcWtzUWQrcGNQOW1IREFjNWRqMFJsU1RpVFpNYVplZFFNd1JLZ0F3WXR0ZVZ2N3MzLy9vL0VOVmhvMXNNTi9qRkd1YXhvNVdRRzZKVllFQkdCVHVSOXdMR2l0MFRmMEE2akxMRkVEV0p1eGllaWV6ejE3c2FDZ1EzdE9MQVBxcjBBTDVqbk9YSnN1WUI3aWNzYkxnVERFWDRqL1l0S1M4YUxsS2xQa2xIMndPNHZncFFwMmExRVhmejBKRGtVb2FmRnlWQVdPa0dodGlmRkdqbXYzWFh2MXB5RXJyNWpPMkJPa3lESys2NXhZQlRzWGc9\n"
     ]
    }
   ],
   "source": [
    "import random\n",
    "import os\n",
    "import json\n",
    "import string\n",
    "import hvac\n",
    "\n",
    "from tfe.session import TFESession\n",
    "from tfe.run import Run\n",
    "from tfe.workspace import Workspace\n",
    "from tfe.organization import Organization\n",
    "\n",
    "session = TFESession(\"https://app.terraform.io\", os.environ.get(\"ATLAS_TOKEN\"))\n",
    "org = Organization(\"AnsibleSSHDemos\")\n",
    "ws = Workspace(organization=org, name=\"Network\")\n",
    "ws.current_state.get()\n",
    "print(\n",
    "    json.dumps(\n",
    "        ws.current_state.outputs,\n",
    "        separators=(',', ':'),\n",
    "        indent=4,\n",
    "        sort_keys=True\n",
    "    )\n",
    ")"
   ]
  }
 ],
 "metadata": {
  "kernelspec": {
   "display_name": "Python 3",
   "language": "python",
   "name": "python3"
  },
  "language_info": {
   "codemirror_mode": {
    "name": "ipython",
    "version": 3
   },
   "file_extension": ".py",
   "mimetype": "text/x-python",
   "name": "python",
   "nbconvert_exporter": "python",
   "pygments_lexer": "ipython3",
   "version": "3.6.5"
  }
 },
 "nbformat": 4,
 "nbformat_minor": 2
}
